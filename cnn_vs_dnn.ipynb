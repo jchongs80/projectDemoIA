{
  "nbformat": 4,
  "nbformat_minor": 0,
  "metadata": {
    "colab": {
      "provenance": [],
      "gpuType": "T4"
    },
    "kernelspec": {
      "name": "python3",
      "display_name": "Python 3"
    },
    "language_info": {
      "name": "python"
    },
    "accelerator": "GPU"
  },
  "cells": [
    {
      "cell_type": "code",
      "execution_count": 1,
      "metadata": {
        "id": "qscXYYJZ8o5c"
      },
      "outputs": [],
      "source": [
        "import tensorflow as tf\n",
        "from tensorflow import keras"
      ]
    },
    {
      "cell_type": "code",
      "source": [
        "import pandas as pd\n",
        "import numpy as np\n",
        "import matplotlib.pyplot as plt"
      ],
      "metadata": {
        "id": "zJA-DHEE9aQe"
      },
      "execution_count": 2,
      "outputs": []
    },
    {
      "cell_type": "code",
      "source": [
        "(x_train, y_train), (x_test, y_test) = keras.datasets.fashion_mnist.load_data()"
      ],
      "metadata": {
        "id": "LrW_r8_1_Vjj",
        "colab": {
          "base_uri": "https://localhost:8080/"
        },
        "outputId": "bc7e32a3-712b-4f8d-cbb9-950c6688502b"
      },
      "execution_count": 3,
      "outputs": [
        {
          "output_type": "stream",
          "name": "stdout",
          "text": [
            "Downloading data from https://storage.googleapis.com/tensorflow/tf-keras-datasets/train-labels-idx1-ubyte.gz\n",
            "29515/29515 [==============================] - 0s 0us/step\n",
            "Downloading data from https://storage.googleapis.com/tensorflow/tf-keras-datasets/train-images-idx3-ubyte.gz\n",
            "26421880/26421880 [==============================] - 0s 0us/step\n",
            "Downloading data from https://storage.googleapis.com/tensorflow/tf-keras-datasets/t10k-labels-idx1-ubyte.gz\n",
            "5148/5148 [==============================] - 0s 0us/step\n",
            "Downloading data from https://storage.googleapis.com/tensorflow/tf-keras-datasets/t10k-images-idx3-ubyte.gz\n",
            "4422102/4422102 [==============================] - 0s 0us/step\n"
          ]
        }
      ]
    },
    {
      "cell_type": "code",
      "source": [
        "print(x_train.shape)\n",
        "print(y_train.shape)\n",
        "print(x_test.shape)\n",
        "print(y_test.shape)"
      ],
      "metadata": {
        "id": "ovBBIAbsiP5c",
        "colab": {
          "base_uri": "https://localhost:8080/"
        },
        "outputId": "49c8433b-d2a9-4f94-d400-ec0fce77198d"
      },
      "execution_count": 6,
      "outputs": [
        {
          "output_type": "stream",
          "name": "stdout",
          "text": [
            "(60000, 28, 28)\n",
            "(60000,)\n",
            "(10000, 28, 28)\n",
            "(10000,)\n"
          ]
        }
      ]
    },
    {
      "cell_type": "code",
      "source": [
        "plt.imshow(x_train[5])"
      ],
      "metadata": {
        "id": "LeaMMnIhiP8P",
        "colab": {
          "base_uri": "https://localhost:8080/",
          "height": 447
        },
        "outputId": "850db2f9-612d-4955-87cb-0888e6ca3c73"
      },
      "execution_count": 9,
      "outputs": [
        {
          "output_type": "execute_result",
          "data": {
            "text/plain": [
              "<matplotlib.image.AxesImage at 0x7df3b720aa10>"
            ]
          },
          "metadata": {},
          "execution_count": 9
        },
        {
          "output_type": "display_data",
          "data": {
            "text/plain": [
              "<Figure size 640x480 with 1 Axes>"
            ],
            "image/png": "[encoded data removed]"
          },
          "metadata": {}
        }
      ]
    },
    {
      "cell_type": "code",
      "source": [
        "y_train[5]"
      ],
      "metadata": {
        "id": "zUbrSpMPiP_C",
        "colab": {
          "base_uri": "https://localhost:8080/"
        },
        "outputId": "978134ae-c6a7-451e-a1c7-f114d8c9afa0"
      },
      "execution_count": 10,
      "outputs": [
        {
          "output_type": "execute_result",
          "data": {
            "text/plain": [
              "2"
            ]
          },
          "metadata": {},
          "execution_count": 10
        }
      ]
    },
    {
      "cell_type": "code",
      "source": [
        "#scale data\n",
        "x_train_scaled=x_train/255\n",
        "x_test_scaled=x_test/255"
      ],
      "metadata": {
        "id": "I0YJYdLdiQCO"
      },
      "execution_count": 11,
      "outputs": []
    },
    {
      "cell_type": "code",
      "source": [
        "#DNN model\n",
        "model=keras.Sequential([\n",
        "    keras.layers.Flatten(input_shape=(28,28)),\n",
        "    keras.layers.Dense(units=3024,activation=\"relu\"),\n",
        "    keras.layers.Dropout(.1),\n",
        "    keras.layers.Dense(units=1064,activation=\"relu\"),\n",
        "    keras.layers.Dropout(.1),\n",
        "    keras.layers.Dense(units=512,activation=\"relu\"),\n",
        "    keras.layers.Dropout(.1),\n",
        "    keras.layers.Dense(units=255,activation=\"relu\"),\n",
        "    keras.layers.Dense(units=164,activation=\"relu\"),\n",
        "    keras.layers.Dense(units=10,activation=\"softmax\")\n",
        "])"
      ],
      "metadata": {
        "id": "OSv1uZpliQFP"
      },
      "execution_count": 12,
      "outputs": []
    },
    {
      "cell_type": "code",
      "source": [
        "model.summary()"
      ],
      "metadata": {
        "id": "gLL5Q3JkiQIY",
        "colab": {
          "base_uri": "https://localhost:8080/"
        },
        "outputId": "e492fc7b-79b3-4728-a2d7-cb1641916971"
      },
      "execution_count": 13,
      "outputs": [
        {
          "output_type": "stream",
          "name": "stdout",
          "text": [
            "Model: \"sequential\"\n",
            "_________________________________________________________________\n",
            " Layer (type)                Output Shape              Param #   \n",
            "=================================================================\n",
            " flatten (Flatten)           (None, 784)               0         \n",
            "                                                                 \n",
            " dense (Dense)               (None, 3024)              2373840   \n",
            "                                                                 \n",
            " dropout (Dropout)           (None, 3024)              0         \n",
            "                                                                 \n",
            " dense_1 (Dense)             (None, 1064)              3218600   \n",
            "                                                                 \n",
            " dropout_1 (Dropout)         (None, 1064)              0         \n",
            "                                                                 \n",
            " dense_2 (Dense)             (None, 512)               545280    \n",
            "                                                                 \n",
            " dropout_2 (Dropout)         (None, 512)               0         \n",
            "                                                                 \n",
            " dense_3 (Dense)             (None, 255)               130815    \n",
            "                                                                 \n",
            " dense_4 (Dense)             (None, 164)               41984     \n",
            "                                                                 \n",
            " dense_5 (Dense)             (None, 10)                1650      \n",
            "                                                                 \n",
            "=================================================================\n",
            "Total params: 6312169 (24.08 MB)\n",
            "Trainable params: 6312169 (24.08 MB)\n",
            "Non-trainable params: 0 (0.00 Byte)\n",
            "_________________________________________________________________\n"
          ]
        }
      ]
    },
    {
      "cell_type": "code",
      "source": [
        "model.compile(optimizer=\"adam\",\n",
        "              loss=\"sparse_categorical_crossentropy\",\n",
        "              metrics=[\"accuracy\"])"
      ],
      "metadata": {
        "id": "Lk25SmJRiQLn"
      },
      "execution_count": 14,
      "outputs": []
    },
    {
      "cell_type": "code",
      "source": [
        "model.fit(x_train_scaled,y_train,epochs=12,validation_data=(x_test_scaled,y_test))"
      ],
      "metadata": {
        "id": "GseI1coziQOv",
        "colab": {
          "base_uri": "https://localhost:8080/"
        },
        "outputId": "81fb0151-0816-4d01-8ab3-3c2b5e45a878"
      },
      "execution_count": 15,
      "outputs": [
        {
          "output_type": "stream",
          "name": "stdout",
          "text": [
            "Epoch 1/12\n",
            "1875/1875 [==============================] - 14s 5ms/step - loss: 0.5440 - accuracy: 0.8031 - val_loss: 0.4242 - val_accuracy: 0.8512\n",
            "Epoch 2/12\n",
            "1875/1875 [==============================] - 11s 6ms/step - loss: 0.4078 - accuracy: 0.8547 - val_loss: 0.4088 - val_accuracy: 0.8600\n",
            "Epoch 3/12\n",
            "1875/1875 [==============================] - 9s 5ms/step - loss: 0.3696 - accuracy: 0.8688 - val_loss: 0.4001 - val_accuracy: 0.8634\n",
            "Epoch 4/12\n",
            "1875/1875 [==============================] - 10s 5ms/step - loss: 0.3479 - accuracy: 0.8750 - val_loss: 0.3712 - val_accuracy: 0.8693\n",
            "Epoch 5/12\n",
            "1875/1875 [==============================] - 9s 5ms/step - loss: 0.3268 - accuracy: 0.8814 - val_loss: 0.3664 - val_accuracy: 0.8717\n",
            "Epoch 6/12\n",
            "1875/1875 [==============================] - 9s 5ms/step - loss: 0.3129 - accuracy: 0.8862 - val_loss: 0.3735 - val_accuracy: 0.8720\n",
            "Epoch 7/12\n",
            "1875/1875 [==============================] - 9s 5ms/step - loss: 0.3020 - accuracy: 0.8902 - val_loss: 0.3684 - val_accuracy: 0.8738\n",
            "Epoch 8/12\n",
            "1875/1875 [==============================] - 9s 5ms/step - loss: 0.2896 - accuracy: 0.8938 - val_loss: 0.3521 - val_accuracy: 0.8755\n",
            "Epoch 9/12\n",
            "1875/1875 [==============================] - 9s 5ms/step - loss: 0.2835 - accuracy: 0.8962 - val_loss: 0.3472 - val_accuracy: 0.8772\n",
            "Epoch 10/12\n",
            "1875/1875 [==============================] - 10s 5ms/step - loss: 0.2773 - accuracy: 0.8977 - val_loss: 0.3655 - val_accuracy: 0.8793\n",
            "Epoch 11/12\n",
            "1875/1875 [==============================] - 10s 5ms/step - loss: 0.2717 - accuracy: 0.9010 - val_loss: 0.3958 - val_accuracy: 0.8692\n",
            "Epoch 12/12\n",
            "1875/1875 [==============================] - 9s 5ms/step - loss: 0.2616 - accuracy: 0.9024 - val_loss: 0.3363 - val_accuracy: 0.8854\n"
          ]
        },
        {
          "output_type": "execute_result",
          "data": {
            "text/plain": [
              "<keras.src.callbacks.History at 0x7df39cc059f0>"
            ]
          },
          "metadata": {},
          "execution_count": 15
        }
      ]
    },
    {
      "cell_type": "code",
      "source": [
        "#convolution model\n",
        "model_1=keras.Sequential([\n",
        "  keras.layers.Conv2D(filters=618,kernel_size=(3,3),padding=\"valid\",activation=\"relu\",input_shape=(28,28,1)),\n",
        "  keras.layers.MaxPooling2D(padding=\"valid\"),\n",
        "  keras.layers.Conv2D(filters=512,kernel_size=(3,3),padding=\"valid\",activation=\"relu\"),\n",
        "  keras.layers.MaxPooling2D(padding=\"valid\"),\n",
        "  keras.layers.Conv2D(filters=112,kernel_size=(3,3),padding=\"valid\",activation=\"relu\"),\n",
        "  keras.layers.Flatten(),\n",
        "  keras.layers.Dense(units=1024,activation=\"relu\"),\n",
        "  keras.layers.Dropout(.2),\n",
        "  keras.layers.Dense(units=512,activation=\"relu\"),\n",
        "  keras.layers.Dense(units=10,activation=\"softmax\")\n",
        "  ])"
      ],
      "metadata": {
        "id": "9VTSyj0CiQRd"
      },
      "execution_count": 29,
      "outputs": []
    },
    {
      "cell_type": "code",
      "source": [
        "model_1.compile(optimizer=\"adam\",\n",
        "              loss=\"sparse_categorical_crossentropy\",\n",
        "              metrics=[\"accuracy\"])"
      ],
      "metadata": {
        "id": "EcWIJEHD9Yju"
      },
      "execution_count": 30,
      "outputs": []
    },
    {
      "cell_type": "code",
      "source": [
        "model_1.summary()"
      ],
      "metadata": {
        "colab": {
          "base_uri": "https://localhost:8080/"
        },
        "id": "b7SDI14z9Yms",
        "outputId": "9bdf9478-a6d0-49da-c4b3-66fef525fafd"
      },
      "execution_count": 31,
      "outputs": [
        {
          "output_type": "stream",
          "name": "stdout",
          "text": [
            "Model: \"sequential_6\"\n",
            "_________________________________________________________________\n",
            " Layer (type)                Output Shape              Param #   \n",
            "=================================================================\n",
            " conv2d_15 (Conv2D)          (None, 26, 26, 618)       6180      \n",
            "                                                                 \n",
            " max_pooling2d_10 (MaxPooli  (None, 13, 13, 618)       0         \n",
            " ng2D)                                                           \n",
            "                                                                 \n",
            " conv2d_16 (Conv2D)          (None, 11, 11, 512)       2848256   \n",
            "                                                                 \n",
            " max_pooling2d_11 (MaxPooli  (None, 5, 5, 512)         0         \n",
            " ng2D)                                                           \n",
            "                                                                 \n",
            " conv2d_17 (Conv2D)          (None, 3, 3, 112)         516208    \n",
            "                                                                 \n",
            " flatten_6 (Flatten)         (None, 1008)              0         \n",
            "                                                                 \n",
            " dense_20 (Dense)            (None, 1024)              1033216   \n",
            "                                                                 \n",
            " dropout_8 (Dropout)         (None, 1024)              0         \n",
            "                                                                 \n",
            " dense_21 (Dense)            (None, 512)               524800    \n",
            "                                                                 \n",
            " dense_22 (Dense)            (None, 10)                5130      \n",
            "                                                                 \n",
            "=================================================================\n",
            "Total params: 4933790 (18.82 MB)\n",
            "Trainable params: 4933790 (18.82 MB)\n",
            "Non-trainable params: 0 (0.00 Byte)\n",
            "_________________________________________________________________\n"
          ]
        }
      ]
    },
    {
      "cell_type": "code",
      "source": [
        "model_1.fit(x_train_scaled,y_train,epochs=12,validation_data=(x_test_scaled,y_test))"
      ],
      "metadata": {
        "colab": {
          "base_uri": "https://localhost:8080/"
        },
        "id": "7zIQ2xCT9YqZ",
        "outputId": "c18fb012-3d12-46ee-b0c7-f31826a5f619"
      },
      "execution_count": 32,
      "outputs": [
        {
          "output_type": "stream",
          "name": "stdout",
          "text": [
            "Epoch 1/12\n",
            "1875/1875 [==============================] - 40s 19ms/step - loss: 0.4457 - accuracy: 0.8353 - val_loss: 0.3331 - val_accuracy: 0.8761\n",
            "Epoch 2/12\n",
            "1875/1875 [==============================] - 34s 18ms/step - loss: 0.2960 - accuracy: 0.8910 - val_loss: 0.3050 - val_accuracy: 0.8858\n",
            "Epoch 3/12\n",
            "1875/1875 [==============================] - 34s 18ms/step - loss: 0.2539 - accuracy: 0.9053 - val_loss: 0.2899 - val_accuracy: 0.8946\n",
            "Epoch 4/12\n",
            "1875/1875 [==============================] - 34s 18ms/step - loss: 0.2233 - accuracy: 0.9175 - val_loss: 0.2619 - val_accuracy: 0.9066\n",
            "Epoch 5/12\n",
            "1875/1875 [==============================] - 34s 18ms/step - loss: 0.2030 - accuracy: 0.9239 - val_loss: 0.2725 - val_accuracy: 0.9045\n",
            "Epoch 6/12\n",
            "1875/1875 [==============================] - 33s 18ms/step - loss: 0.1844 - accuracy: 0.9313 - val_loss: 0.2682 - val_accuracy: 0.9078\n",
            "Epoch 7/12\n",
            "1875/1875 [==============================] - 34s 18ms/step - loss: 0.1635 - accuracy: 0.9387 - val_loss: 0.2702 - val_accuracy: 0.9098\n",
            "Epoch 8/12\n",
            "1875/1875 [==============================] - 33s 18ms/step - loss: 0.1491 - accuracy: 0.9430 - val_loss: 0.2863 - val_accuracy: 0.9113\n",
            "Epoch 9/12\n",
            "1875/1875 [==============================] - 34s 18ms/step - loss: 0.1396 - accuracy: 0.9473 - val_loss: 0.3387 - val_accuracy: 0.9041\n",
            "Epoch 10/12\n",
            "1875/1875 [==============================] - 33s 18ms/step - loss: 0.1301 - accuracy: 0.9502 - val_loss: 0.3008 - val_accuracy: 0.9131\n",
            "Epoch 11/12\n",
            "1875/1875 [==============================] - 34s 18ms/step - loss: 0.1177 - accuracy: 0.9551 - val_loss: 0.3721 - val_accuracy: 0.9050\n",
            "Epoch 12/12\n",
            "1875/1875 [==============================] - 33s 18ms/step - loss: 0.1130 - accuracy: 0.9572 - val_loss: 0.3595 - val_accuracy: 0.9083\n"
          ]
        },
        {
          "output_type": "execute_result",
          "data": {
            "text/plain": [
              "<keras.src.callbacks.History at 0x7df37c26a650>"
            ]
          },
          "metadata": {},
          "execution_count": 32
        }
      ]
    },
    {
      "cell_type": "code",
      "source": [],
      "metadata": {
        "id": "OymKrAHh9Ytn"
      },
      "execution_count": null,
      "outputs": []
    },
    {
      "cell_type": "code",
      "source": [],
      "metadata": {
        "id": "fX58VSxN9Ywn"
      },
      "execution_count": null,
      "outputs": []
    },
    {
      "cell_type": "code",
      "source": [],
      "metadata": {
        "id": "_v52Gqdd9Yzi"
      },
      "execution_count": null,
      "outputs": []
    },
    {
      "cell_type": "code",
      "source": [],
      "metadata": {
        "id": "zrd0MtwxiQUQ"
      },
      "execution_count": null,
      "outputs": []
    },
    {
      "cell_type": "code",
      "source": [
        "print(\"training report is as follow:\")\n",
        "print(classification_report(y_train,y_train_final))\n",
        "print(\"testing repport is as follow\")\n",
        "print(classification_report(y_test,y_test_final))"
      ],
      "metadata": {
        "colab": {
          "base_uri": "https://localhost:8080/"
        },
        "id": "NpTr0vwqAeNM",
        "outputId": "95269240-8d88-4ca3-c092-7966c3ca15f7"
      },
      "execution_count": null,
      "outputs": [
        {
          "output_type": "stream",
          "name": "stdout",
          "text": [
            "training report is as follow:\n",
            "              precision    recall  f1-score   support\n",
            "\n",
            "           0       0.98      0.97      0.97      5923\n",
            "           1       0.97      0.98      0.97      6742\n",
            "           2       0.94      0.93      0.93      5958\n",
            "           3       0.94      0.89      0.91      6131\n",
            "           4       0.94      0.95      0.94      5842\n",
            "           5       0.87      0.92      0.90      5421\n",
            "           6       0.97      0.96      0.96      5918\n",
            "           7       0.95      0.95      0.95      6265\n",
            "           8       0.91      0.91      0.91      5851\n",
            "           9       0.92      0.92      0.92      5949\n",
            "\n",
            "    accuracy                           0.94     60000\n",
            "   macro avg       0.94      0.94      0.94     60000\n",
            "weighted avg       0.94      0.94      0.94     60000\n",
            "\n",
            "testing repport is as follow\n",
            "              precision    recall  f1-score   support\n",
            "\n",
            "           0       0.96      0.97      0.97       980\n",
            "           1       0.97      0.98      0.97      1135\n",
            "           2       0.93      0.91      0.92      1032\n",
            "           3       0.93      0.89      0.91      1010\n",
            "           4       0.93      0.94      0.93       982\n",
            "           5       0.87      0.90      0.88       892\n",
            "           6       0.95      0.95      0.95       958\n",
            "           7       0.93      0.93      0.93      1028\n",
            "           8       0.88      0.89      0.88       974\n",
            "           9       0.92      0.91      0.91      1009\n",
            "\n",
            "    accuracy                           0.93     10000\n",
            "   macro avg       0.93      0.93      0.93     10000\n",
            "weighted avg       0.93      0.93      0.93     10000\n",
            "\n"
          ]
        }
      ]
    },
    {
      "cell_type": "markdown",
      "source": [
        "**Add hidden layers(2 layers of 320 and 160 neurons respectively)**"
      ],
      "metadata": {
        "id": "Ihp4XJriTL-P"
      }
    },
    {
      "cell_type": "code",
      "source": [
        "model_1=keras.Sequential([\n",
        "    keras.layers.Dense(units=320,activation=\"relu\",input_shape=(784,)),\n",
        "    keras.layers.Dense(units=160,activation=\"relu\"),\n",
        "    keras.layers.Dense(units=10,activation=\"softmax\")\n",
        "])\n",
        "model_1.summary()"
      ],
      "metadata": {
        "colab": {
          "base_uri": "https://localhost:8080/"
        },
        "id": "8MwWtabTBX46",
        "outputId": "4a89f573-e70f-4674-beee-a86c3b12787e"
      },
      "execution_count": null,
      "outputs": [
        {
          "output_type": "stream",
          "name": "stdout",
          "text": [
            "Model: \"sequential_2\"\n",
            "_________________________________________________________________\n",
            " Layer (type)                Output Shape              Param #   \n",
            "=================================================================\n",
            " dense_2 (Dense)             (None, 320)               251200    \n",
            "                                                                 \n",
            " dense_3 (Dense)             (None, 160)               51360     \n",
            "                                                                 \n",
            " dense_4 (Dense)             (None, 10)                1610      \n",
            "                                                                 \n",
            "=================================================================\n",
            "Total params: 304170 (1.16 MB)\n",
            "Trainable params: 304170 (1.16 MB)\n",
            "Non-trainable params: 0 (0.00 Byte)\n",
            "_________________________________________________________________\n"
          ]
        }
      ]
    },
    {
      "cell_type": "code",
      "source": [
        "model_1.compile(optimizer=\"adam\",\n",
        "                loss=\"sparse_categorical_crossentropy\",\n",
        "              metrics=[\"accuracy\"]\n",
        "                )"
      ],
      "metadata": {
        "id": "m4ZMqdAFUjT4"
      },
      "execution_count": null,
      "outputs": []
    },
    {
      "cell_type": "code",
      "source": [
        "model_1.fit(x=x_train_flatten,y=y_train,validation_split=.8,epochs=10)"
      ],
      "metadata": {
        "colab": {
          "base_uri": "https://localhost:8080/"
        },
        "id": "NoAV9hvUWutV",
        "outputId": "034e9455-6f5f-42d9-aabc-e2c4253946e9"
      },
      "execution_count": null,
      "outputs": [
        {
          "output_type": "stream",
          "name": "stdout",
          "text": [
            "Epoch 1/10\n",
            "375/375 [==============================] - 7s 17ms/step - loss: 0.3763 - accuracy: 0.8920 - val_loss: 0.2264 - val_accuracy: 0.9332\n",
            "Epoch 2/10\n",
            "375/375 [==============================] - 5s 13ms/step - loss: 0.1500 - accuracy: 0.9574 - val_loss: 0.1738 - val_accuracy: 0.9469\n",
            "Epoch 3/10\n",
            "375/375 [==============================] - 7s 18ms/step - loss: 0.0931 - accuracy: 0.9723 - val_loss: 0.1881 - val_accuracy: 0.9428\n",
            "Epoch 4/10\n",
            "375/375 [==============================] - 5s 13ms/step - loss: 0.0597 - accuracy: 0.9822 - val_loss: 0.1665 - val_accuracy: 0.9509\n",
            "Epoch 5/10\n",
            "375/375 [==============================] - 7s 18ms/step - loss: 0.0364 - accuracy: 0.9894 - val_loss: 0.1540 - val_accuracy: 0.9570\n",
            "Epoch 6/10\n",
            "375/375 [==============================] - 7s 18ms/step - loss: 0.0253 - accuracy: 0.9927 - val_loss: 0.1781 - val_accuracy: 0.9511\n",
            "Epoch 7/10\n",
            "375/375 [==============================] - 7s 18ms/step - loss: 0.0195 - accuracy: 0.9941 - val_loss: 0.1613 - val_accuracy: 0.9592\n",
            "Epoch 8/10\n",
            "375/375 [==============================] - 7s 18ms/step - loss: 0.0275 - accuracy: 0.9919 - val_loss: 0.2078 - val_accuracy: 0.9498\n",
            "Epoch 9/10\n",
            "375/375 [==============================] - 4s 11ms/step - loss: 0.0228 - accuracy: 0.9927 - val_loss: 0.1817 - val_accuracy: 0.9582\n",
            "Epoch 10/10\n",
            "375/375 [==============================] - 7s 18ms/step - loss: 0.0125 - accuracy: 0.9969 - val_loss: 0.1989 - val_accuracy: 0.9543\n"
          ]
        },
        {
          "output_type": "execute_result",
          "data": {
            "text/plain": [
              "<keras.src.callbacks.History at 0x7cc395a77e20>"
            ]
          },
          "metadata": {},
          "execution_count": 71
        }
      ]
    },
    {
      "cell_type": "code",
      "source": [],
      "metadata": {
        "id": "2cV8Vg9bZdwu"
      },
      "execution_count": null,
      "outputs": []
    }
  ]
}